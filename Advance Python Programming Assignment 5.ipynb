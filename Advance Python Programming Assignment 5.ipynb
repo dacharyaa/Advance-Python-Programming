{
 "cells": [
  {
   "cell_type": "markdown",
   "metadata": {},
   "source": [
    "Create a function that takes a number n (integer greater than zero) as an argument, and returns 2 if n is odd and 8 if n is even.\n",
    "\n",
    "You can only use the following arithmetic operators: addition of numbers +, subtraction of numbers -, multiplication of number *, division of number /, and exponentiation **."
   ]
  },
  {
   "cell_type": "code",
   "execution_count": 5,
   "metadata": {},
   "outputs": [
    {
     "name": "stdout",
     "output_type": "stream",
     "text": [
      "Enter number:3\n"
     ]
    },
    {
     "data": {
      "text/plain": [
       "2"
      ]
     },
     "execution_count": 5,
     "metadata": {},
     "output_type": "execute_result"
    }
   ],
   "source": [
    "def odd_even(n):\n",
    "    n_type = (8, 2)\n",
    "    return n_type[n%2]\n",
    "\n",
    "n = int(input(\"Enter number:\")) \n",
    "p=odd_even(n)\n",
    "p"
   ]
  },
  {
   "cell_type": "markdown",
   "metadata": {},
   "source": [
    "2. Create a function that returns the majority vote in a list. A majority vote is an element that occurs > N/2 times in a list (where N is the length of the list).\n",
    "\n",
    "Examples\n",
    "majority_vote([\"A\", \"A\", \"B\"]) ➞ \"A\"\n",
    "majority_vote([\"A\", \"A\", \"A\", \"B\", \"C\", \"A\"]) ➞ \"A\"\n",
    "majority_vote([\"A\", \"B\", \"B\", \"A\", \"C\", \"C\"]) ➞ None"
   ]
  },
  {
   "cell_type": "code",
   "execution_count": 10,
   "metadata": {},
   "outputs": [
    {
     "name": "stdout",
     "output_type": "stream",
     "text": [
      "Majority Vote is For : A\n"
     ]
    }
   ],
   "source": [
    "def majority_vote(a):\n",
    "    length=len(a)\n",
    "    b=tuple(set(a))\n",
    "    d={}\n",
    "\n",
    "    for i in range(len(b)):\n",
    "        cnt=0\n",
    "        for j in range(len(a)):\n",
    "            if a[j]==b[i]:\n",
    "                cnt+=1\n",
    "                d[b[i]]=cnt\n",
    "    #print('Dictionary is :',d) \n",
    "    #To get Maximum Key\n",
    "    Keymax = max(d, key=d.get)\n",
    "    #To compare max value with N/2\n",
    "    if d[Keymax] >= length/2:\n",
    "        return Keymax\n",
    "    else:\n",
    "        return None\n",
    "    \n",
    "    \n",
    "a=[\"A\", \"A\", \"A\", \"B\", \"C\", \"A\"] \n",
    "b=majority_vote(a) \n",
    "print('Majority Vote is For :',b)"
   ]
  },
  {
   "cell_type": "markdown",
   "metadata": {},
   "source": [
    "3. Create a function that takes a string txt and censors any word from a given list lst. The text removed must be replaced by the given character char.\n",
    "\n",
    "Examples\n",
    "censor_string(\"Today is a Wednesday!\", [\"Today\", \"a\"], \"-\") ➞ \"----- is - Wednesday!\"\n",
    "censor_string(\"The cow jumped over the moon.\", [\"cow\", \"over\"], \"*\"), \"The *** jumped **** the moon.\")\n",
    "censor_string(\"Why did the chicken cross the road?\", [\"Did\", \"chicken\", \"road\"], \"*\") ➞ \"Why *** the ******* cross the ****?\""
   ]
  },
  {
   "cell_type": "code",
   "execution_count": 18,
   "metadata": {},
   "outputs": [
    {
     "name": "stdout",
     "output_type": "stream",
     "text": [
      "['Why', '***', 'the', '*******', 'cross', 'the', '****', '?']\n"
     ]
    }
   ],
   "source": [
    "def censor_string(s,l1,ch):\n",
    "    l=s.split(' ')\n",
    "    l1=[\"did\", \"chicken\", \"road\"]\n",
    "    ch='*'\n",
    "    for i in range(len(l1)):\n",
    "        for j in range(len(l)):\n",
    "            if l[j]== l1[i]:\n",
    "                l[j]=len(l[j])*ch\n",
    "    return l\n",
    "\n",
    "\n",
    "s=\"Why did the chicken cross the road ?\"\n",
    "l1=[\"did\", \"chicken\", \"road\"]\n",
    "ch='*'\n",
    "ll=censor_string(s,l1,ch)\n",
    "print(ll)"
   ]
  },
  {
   "cell_type": "markdown",
   "metadata": {},
   "source": [
    "4. In mathematics a Polydivisible Number (or magic number) is a number in a given number base with digits abcde... that has the following properties:\n",
    "\n",
    "-  Its first digit a is not 0.\n",
    "- The number formed by its first two digits ab is a multiple of 2.\n",
    "- The number formed by its first three digits abc is a multiple of 3.\n",
    "- The number formed by its first four digits abcd is a multiple of 4.\n",
    "\n",
    "Create a function which takes an integer n and returns True if the given number is a Polydivisible Number and False otherwise.\n",
    "Examples\n",
    "is_polydivisible(1232) ➞ True\n",
    "is_polydivisible(123220 ) ➞ False\n",
    "\n"
   ]
  },
  {
   "cell_type": "code",
   "execution_count": 37,
   "metadata": {},
   "outputs": [
    {
     "name": "stdout",
     "output_type": "stream",
     "text": [
      "Enter a Number to check if Polydivisible :1232\n",
      "is_polydivisible( 1232 )--> True\n"
     ]
    }
   ],
   "source": [
    "def is_polydivisible(n):\n",
    "    s1=str(n)\n",
    "    ln=len(str(n))\n",
    "    l1=[]\n",
    "    x=True\n",
    "    for i in range(ln):\n",
    "        l1.append(s1[0:i+1])\n",
    "    #convert string l1 to int type\n",
    "    test_list = [int(i) for i in l1]\n",
    "    #to check if the numbers are divisible by respective positions\n",
    "    for i in range(2,len(test_list)+1):\n",
    "        #print(test_list[i-1],i)\n",
    "        if (test_list[i-1]%i)==0:\n",
    "            continue\n",
    "            \n",
    "        else:\n",
    "            x=False\n",
    "    return x       \n",
    "    \n",
    "n=int(input('Enter a Number to check if Polydivisible :'))\n",
    "bool=is_polydivisible(n)\n",
    "print('is_polydivisible(',n,')-->',bool)"
   ]
  },
  {
   "cell_type": "markdown",
   "metadata": {},
   "source": [
    "5. Create a function that takes a list of numbers and returns the sum of all prime numbers in the list.\n",
    "\n",
    "Examples\n",
    "sum_primes([1, 2, 3, 4, 5, 6, 7, 8, 9, 10]) ➞ 17\n",
    "sum_primes([2, 3, 4, 11, 20, 50, 71]) ➞ 87\n",
    "sum_primes([]) ➞ None\n"
   ]
  },
  {
   "cell_type": "code",
   "execution_count": 42,
   "metadata": {},
   "outputs": [
    {
     "name": "stdout",
     "output_type": "stream",
     "text": [
      "sum_primes( [2, 3, 4, 11, 20, 50, 71] ) --> 87\n"
     ]
    }
   ],
   "source": [
    "def sum_primes(a):\n",
    "    l=[]\n",
    "    for i in a:\n",
    "        if i > 1:\n",
    "            for j in range(2,i):\n",
    "                if i%j == 0:\n",
    "                    break\n",
    "            else:\n",
    "                l.append(i)\n",
    "    return sum(l)\n",
    "\n",
    "a=[2, 3, 4, 11, 20, 50, 71]\n",
    "summ=sum_primes(a)\n",
    "print('sum_primes(',a,') -->',summ)"
   ]
  },
  {
   "cell_type": "code",
   "execution_count": null,
   "metadata": {},
   "outputs": [],
   "source": []
  }
 ],
 "metadata": {
  "kernelspec": {
   "display_name": "Python 3",
   "language": "python",
   "name": "python3"
  },
  "language_info": {
   "codemirror_mode": {
    "name": "ipython",
    "version": 3
   },
   "file_extension": ".py",
   "mimetype": "text/x-python",
   "name": "python",
   "nbconvert_exporter": "python",
   "pygments_lexer": "ipython3",
   "version": "3.6.4"
  }
 },
 "nbformat": 4,
 "nbformat_minor": 2
}
