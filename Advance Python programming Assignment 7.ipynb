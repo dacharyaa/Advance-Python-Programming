{
 "cells": [
  {
   "cell_type": "markdown",
   "metadata": {},
   "source": [
    "2. There are many different styles of music and many albums exhibit multiple styles. Create a function that takes a list of musical styles from albums and returns how many styles are unique.\n",
    "Examples\n",
    "unique_styles([\n",
    "  \"Dub,Dancehall\",\n",
    "  \"Industrial,Heavy Metal\",\n",
    "  \"Techno,Dubstep\",\n",
    "  \"Synth-pop,Euro-Disco\",\n",
    "  \"Industrial,Techno,Minimal\"\n",
    "]) ➞ 9\n",
    "\n",
    "unique_styles([\n",
    "  \"Soul\",\n",
    "  \"House,Folk\",\n",
    "  \"Trance,Downtempo,Big Beat,House\",\n",
    "  \"Deep House\",\n",
    "  \"Soul\"\n",
    "]) ➞ 7\n"
   ]
  },
  {
   "cell_type": "code",
   "execution_count": 9,
   "metadata": {},
   "outputs": [
    {
     "name": "stdout",
     "output_type": "stream",
     "text": [
      "['Dub,Dancehall', 'Industrial,Heavy Metal', 'Techno,Dubstep', 'Synth-pop,Euro-Disco', 'Industrial,Techno,Minimal'] --> 9\n"
     ]
    }
   ],
   "source": [
    "def unique_styles(a):\n",
    "    req_list=[]\n",
    "    for i in range(len(a)):\n",
    "        req_list.append(a[i].split(','))\n",
    "    req_list\n",
    "    flat_list = []\n",
    "    # Iterate through the outer list\n",
    "    for element in req_list:\n",
    "        if type(element) is list:\n",
    "            # If the element is of type list, iterate through the sublist\n",
    "            for item in element:\n",
    "                flat_list.append(item.strip())\n",
    "        else:\n",
    "            flat_list.append(element)\n",
    "    return len(set(flat_list))\n",
    "\n",
    "a=[\n",
    "  \"Dub,Dancehall\",\n",
    "  \"Industrial,Heavy Metal\",\n",
    "  \"Techno,Dubstep\",\n",
    "  \"Synth-pop,Euro-Disco\",\n",
    "  \"Industrial,Techno,Minimal\"\n",
    "]\n",
    "\n",
    "ll=unique_styles(a)\n",
    "print(a,'-->',ll)"
   ]
  },
  {
   "cell_type": "markdown",
   "metadata": {},
   "source": [
    "3. Create a function that finds a target number in a list of prime numbers. Implement a binary search algorithm in your function. The target number will be from 2 through 97. If the target is prime then return \"yes\" else return \"no\".\n",
    "Examples\n",
    "primes = [2, 3, 5, 7, 11, 13, 17, 19, 23, 29, 31, 37, 41, 43, 47, 53, 59, 61, 67, 71, 73, 79, 83, 89, 97]\n",
    "\n",
    "is_prime(primes, 3) ➞ \"yes\"\n",
    "is_prime(primes, 4) ➞ \"no\"\n",
    "is_prime(primes, 67) ➞ \"yes\"\n",
    "is_prime(primes, 36) ➞ \"no\""
   ]
  },
  {
   "cell_type": "code",
   "execution_count": 10,
   "metadata": {},
   "outputs": [
    {
     "name": "stdout",
     "output_type": "stream",
     "text": [
      "Enter a number Between 2 to 97 :61\n",
      "is_prime( [2, 3, 5, 7, 11, 13, 17, 19, 23, 29, 31, 37, 41, 43, 47, 53, 59, 61, 67, 71, 73, 79, 83, 89, 97] 61 --> Yes\n"
     ]
    }
   ],
   "source": [
    "n= int(input('Enter a number Between 2 to 97 :'))\n",
    "if n >=2 and n<=97:\n",
    "    #Generate Prime numbers\n",
    "    def primes(a):\n",
    "        x=True\n",
    "        for i in range(2,a):\n",
    "            if a%i==0:\n",
    "                x=False\n",
    "                break\n",
    "            else:\n",
    "                pass\n",
    "        return x\n",
    "    \n",
    "    # Binary search logic\n",
    "    def is_prime(arr, x):\n",
    "        low = 0\n",
    "        high = len(arr) - 1\n",
    "        mid = 0\n",
    "        \n",
    "        while low <= high:\n",
    "            mid = (high + low) // 2\n",
    "            # If x is greater, ignore left half\n",
    "            if arr[mid] < x:\n",
    "                low = mid + 1\n",
    "            # If x is smaller, ignore right half\n",
    "            elif arr[mid] > x:\n",
    "                high = mid - 1\n",
    "            # means x is present at mid\n",
    "            else:\n",
    "                return mid\n",
    "        \n",
    "        return -1 \n",
    "        \n",
    "    i=2\n",
    "    c=100\n",
    "    primess=[]\n",
    "    while i < c:\n",
    "        if primes(i):\n",
    "            primess.append(i)\n",
    "        i+=1\n",
    "    #print(primess)\n",
    "    bool=is_prime(primess, n)\n",
    "    if bool==-1:\n",
    "        print('is_prime(',primess,n,'-->','No')\n",
    "    else:\n",
    "        print('is_prime(',primess,n,'-->','Yes')\n",
    "else:\n",
    "    print('Number {} is not in between 2 and 97 '.format(n))"
   ]
  },
  {
   "cell_type": "markdown",
   "metadata": {},
   "source": [
    "4. Create a function that takes in n, a, b and returns the number of positive values raised to the nth power that lie in the range [a, b], inclusive.\n",
    "\n",
    "Examples\n",
    "power_ranger(2, 49, 65) ➞ 2\n",
    "# 2 squares (n^2) lie between 49 and 65, 49 (7^2) and 64 (8^2)\n",
    "\n",
    "power_ranger(3, 1, 27) ➞ 3\n",
    "# 3 cubes (n^3) lie between 1 and 27, 1 (1^3), 8 (2^3) and 27 (3^3)\n",
    "\n",
    "power_ranger(10, 1, 5) ➞ 1\n",
    "# 1 value raised to the 10th power lies between 1 and 5, 1 (1^10)\n",
    "\n",
    "power_ranger(5, 31, 33) ➞ 1\n",
    "power_ranger(4, 250, 1300) ➞ 3"
   ]
  },
  {
   "cell_type": "code",
   "execution_count": 18,
   "metadata": {},
   "outputs": [
    {
     "name": "stdout",
     "output_type": "stream",
     "text": [
      "Enter the nth Power :3\n",
      "Enter the lower range :1\n",
      "Enter the higher range :27\n",
      "power_ranger( 3 , 1 , 27 )-->  3\n"
     ]
    }
   ],
   "source": [
    "def power_ranger(n,a,b):\n",
    "    cnt=0\n",
    "    for i in range(1,10000):\n",
    "        if i**n >= a and i**n <=b:\n",
    "            cnt+=1\n",
    "    \n",
    "    return cnt\n",
    "\n",
    "n=int(input('Enter the nth Power :'))\n",
    "a=int(input('Enter the lower range :'))\n",
    "b=int(input('Enter the higher range :'))\n",
    "\n",
    "print('power_ranger(',n,',',a,',',b,')--> ',power_ranger(n,a,b))"
   ]
  },
  {
   "cell_type": "markdown",
   "metadata": {},
   "source": [
    "5. Given a number, return the difference between the maximum and minimum numbers that can be formed when the digits are rearranged.\n",
    "\n",
    "Examples\n",
    "rearranged_difference(972882) ➞ 760833\n",
    "# 988722 - 227889 = 760833\n",
    "\n",
    "rearranged_difference(3320707) ➞ 7709823\n",
    "# 7733200 - 23377 = 7709823\n",
    "\n",
    "rearranged_difference(90010) ➞ 90981\n",
    "# 91000 - 19 = 90981"
   ]
  },
  {
   "cell_type": "code",
   "execution_count": 29,
   "metadata": {},
   "outputs": [
    {
     "name": "stdout",
     "output_type": "stream",
     "text": [
      "Enter the Number :3320707\n",
      "largest : 7733200\n",
      "smallest: 23377\n",
      "rearranged_difference( 3320707 ) --> 7709823\n"
     ]
    }
   ],
   "source": [
    "def rearranged_difference(n):\n",
    "    #convert the number to numeric list\n",
    "    l1=list(str(n))\n",
    "    #print(l1)\n",
    "    l=[int(i) for i in l1]\n",
    "    #print(l)\n",
    "    #find Maximum number\n",
    "    l.sort(reverse = True)\n",
    "    # initialize num with starting\n",
    "    # element of an arr\n",
    "    num = l[0]\n",
    "    # generate the number\n",
    "    for i in range(1,len(l)) :\n",
    "        num = num * 10 + l[i]\n",
    "    print('largest :',num)\n",
    "    #find the smallest number\n",
    "    l.sort(reverse = False)\n",
    "  \n",
    "    # initialize num with starting\n",
    "    # element of an arr\n",
    "    num1 = l[0]\n",
    "  \n",
    "    # generate the number\n",
    "    for i in range(1,len(l)) :\n",
    "        num1 = num1 * 10 + l[i]\n",
    "    print('smallest:',num1)\n",
    "    \n",
    "    return (num-num1)\n",
    "    \n",
    "n=input('Enter the Number :')\n",
    "reqd_num=rearranged_difference(n)\n",
    "print('rearranged_difference(',n,') -->',reqd_num)\n"
   ]
  },
  {
   "cell_type": "code",
   "execution_count": null,
   "metadata": {},
   "outputs": [],
   "source": []
  },
  {
   "cell_type": "code",
   "execution_count": null,
   "metadata": {},
   "outputs": [],
   "source": []
  }
 ],
 "metadata": {
  "kernelspec": {
   "display_name": "Python 3",
   "language": "python",
   "name": "python3"
  },
  "language_info": {
   "codemirror_mode": {
    "name": "ipython",
    "version": 3
   },
   "file_extension": ".py",
   "mimetype": "text/x-python",
   "name": "python",
   "nbconvert_exporter": "python",
   "pygments_lexer": "ipython3",
   "version": "3.6.4"
  }
 },
 "nbformat": 4,
 "nbformat_minor": 2
}
