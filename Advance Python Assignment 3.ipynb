{
 "cells": [
  {
   "cell_type": "markdown",
   "metadata": {},
   "source": [
    "2. Write a function that takes the coordinates of three points in the form of a 2d array and returns the perimeter of the triangle. The given points are the vertices of a triangle on a two-dimensional plane."
   ]
  },
  {
   "cell_type": "code",
   "execution_count": 10,
   "metadata": {},
   "outputs": [
    {
     "name": "stdout",
     "output_type": "stream",
     "text": [
      "<class 'list'>\n",
      "[[-10, -10], [10, 10], [-10, 10]] Perimeter of Triangle:  68.28\n"
     ]
    }
   ],
   "source": [
    "import math\n",
    "def perimeter(a):\n",
    "    d={'x1':a[0][0],'y1':a[0][1],'x2':a[1][0],'y2':a[1][1],'x3':a[2][0],'y3':a[2][1]}\n",
    "    a=math.sqrt((d['x2']-d['x1'])**2+(d['y2']-d['y1'])**2)\n",
    "    b=math.sqrt((d['x3']-d['x2'])**2+(d['y3']-d['y2'])**2)\n",
    "    c=math.sqrt((d['x3']-d['x1'])**2+(d['y3']-d['y1'])**2)\n",
    "    return round(a+b+c,2)\n",
    "a= [ [-10, -10], [10, 10 ], [-10, 10] ] \n",
    "print(type(a))\n",
    "perimtr=perimeter(a)\n",
    "print(\"{} Perimeter of Triangle: \".format(a),perimtr) "
   ]
  },
  {
   "cell_type": "markdown",
   "metadata": {},
   "source": [
    "1. Create a function to perform basic arithmetic operations that includes addition, subtraction, multiplication and division on a string number (e.g. \"12 + 24\" or \"23 - 21\" or \"12 // 12\" or \"12 * 21\").\n",
    "\n",
    "Here, we have 1 followed by a space, operator followed by another space and 2. For the challenge, we are going to have only two numbers between 1 valid operator. The return value should be a number.\n",
    "\n",
    "eval() is not allowed. In case of division, whenever the second number equals \"0\" return -1.\n"
   ]
  },
  {
   "cell_type": "code",
   "execution_count": 11,
   "metadata": {},
   "outputs": [
    {
     "name": "stdout",
     "output_type": "stream",
     "text": [
      "Enter a String like \"12 * 5\" to perform Arithmatic Operation:12 * 5\n",
      "12 * 5 : 60\n"
     ]
    }
   ],
   "source": [
    "def calc(s):\n",
    "    s2=s.split(' ')\n",
    "    a=s2[0]\n",
    "    b=s2[1]\n",
    "    c=s2[2]\n",
    "    if b=='+':\n",
    "        d=int(a)+int(c)\n",
    "    elif b=='*':\n",
    "        d=int(a)*int(c)\n",
    "    elif b=='-':\n",
    "        d=int(a)-int(c)\n",
    "    elif b=='//':\n",
    "        if int(c)== 0:\n",
    "            return -1\n",
    "        else:\n",
    "            d=int(a)/int(c)\n",
    "        \n",
    "    return d  \n",
    "    \n",
    "s=input('Enter a String like \"12 * 5\" to perform Arithmatic Operation:')\n",
    "d=calc(s)\n",
    "print('{} :'.format(s),d)"
   ]
  },
  {
   "cell_type": "markdown",
   "metadata": {},
   "source": [
    "3. A city skyline can be represented as a 2-D list with 1s representing buildings. In the example below, the height of the tallest building is 4 (second-most right column).\n",
    "\n",
    "[[0, 0, 0, 0, 0, 0],\n",
    "[0, 0, 0, 0, 1, 0],\n",
    "[0, 0, 1, 0, 1, 0],\n",
    "[0, 1, 1, 1, 1, 0],\n",
    "[1, 1, 1, 1, 1, 1]]\n",
    "\n",
    "Create a function that takes a skyline (2-D list of 0's and 1's) and returns the height of the tallest skyscraper."
   ]
  },
  {
   "cell_type": "code",
   "execution_count": 16,
   "metadata": {},
   "outputs": [
    {
     "name": "stdout",
     "output_type": "stream",
     "text": [
      "[[0, 0, 0, 0], [0, 0, 0, 0], [1, 1, 1, 0], [1, 1, 1, 1]]height of the tallest skyscraper : 2\n"
     ]
    }
   ],
   "source": [
    "import numpy as np\n",
    "def tallest_skyscraper(l):\n",
    "    l1=np.transpose(l)\n",
    "    l12=[]\n",
    "    for i in l1:\n",
    "        cnt=0\n",
    "        for j in range(len(i)):\n",
    "            if i[j]==1:\n",
    "                cnt+=1\n",
    "        l12.append(cnt) \n",
    "    return l12\n",
    "\n",
    "l=([\n",
    "[0, 0, 0, 0],\n",
    "[0, 0, 0, 0],\n",
    "[1, 1, 1, 0],\n",
    "[1, 1, 1, 1]\n",
    "])\n",
    "tall=tallest_skyscraper(l)\n",
    "print('{}height of the tallest skyscraper :'.format(l),max(tall))"
   ]
  },
  {
   "cell_type": "markdown",
   "metadata": {},
   "source": [
    "4. A financial institution provides professional services to banks and claims charges from the customers based on the number of man-days provided. Internally, it has set a scheme to motivate and reward staff to meet and exceed targeted billable utilization and revenues by paying a bonus for each day claimed from customers in excess of a threshold target.\n",
    "\n",
    "This quarterly scheme is calculated with a threshold target of 32 days per quarter, and the incentive payment for each billable day in excess of such threshold target is shown as follows:\n",
    "\n",
    "Days\t                             Bonus\n",
    "0 to 32 days\t                   Zero\n",
    "33 to 40 days\t         SGD$325 per billable day\n",
    "41 to 48 days\t         SGD$550 per billable day\n",
    "Greater than 48 days      SGD$600 per billable day\n",
    "\n",
    "Please note that incentive payment is calculated progressively. As an example, if an employee reached total billable days of 45 in a quarter, his/her incentive payment is computed as follows:\n",
    "\n",
    "32*0 + 8*325 + 5*550 = 5350\n",
    "\n",
    "Write a function to read the billable days of an employee and return the bonus he/she has obtained in that quarter.\n",
    "\n",
    "Examples\n",
    "bonus(15) ➞ 0\n",
    "bonus(37) ➞ 1625\n",
    "bonus(50) ➞ 8200"
   ]
  },
  {
   "cell_type": "code",
   "execution_count": 18,
   "metadata": {},
   "outputs": [
    {
     "name": "stdout",
     "output_type": "stream",
     "text": [
      "Please Enter billable days :37\n",
      "Bonus Amount is : 1625\n"
     ]
    }
   ],
   "source": [
    "def bonus(x):\n",
    "    \n",
    "    bonus=0\n",
    "    if x < 32:\n",
    "        bonus=0\n",
    "    if x >=33:\n",
    "        if x >= 40:\n",
    "            bonuss=8*325\n",
    "        else:\n",
    "            bonuss= (x-33+1)*325\n",
    "    if x >=41:\n",
    "        if x >= 48:\n",
    "            bonuss=bonuss+8*550\n",
    "        else:\n",
    "            bonuss= bonuss+(x-41+1)*550\n",
    "    if x > 48:\n",
    "        bonuss=bonuss+(x-48)*600\n",
    "    return bonuss\n",
    "x=int(input('Please Enter billable days :'))\n",
    "b=bonus(x)\n",
    "print('Bonus Amount is :',b)"
   ]
  },
  {
   "cell_type": "markdown",
   "metadata": {},
   "source": [
    "5. A number is said to be Disarium if the sum of its digits raised to their respective positions is the number itself.\n",
    "\n",
    "Create a function that determines whether a number is a Disarium or not.\n"
   ]
  },
  {
   "cell_type": "code",
   "execution_count": 3,
   "metadata": {},
   "outputs": [
    {
     "name": "stdout",
     "output_type": "stream",
     "text": [
      "Enter a Number :466\n"
     ]
    },
    {
     "data": {
      "text/plain": [
       "False"
      ]
     },
     "execution_count": 3,
     "metadata": {},
     "output_type": "execute_result"
    }
   ],
   "source": [
    "def is_disarium(num):\n",
    "    rem = s = 0\n",
    "    len1 = len(str(num))\n",
    "     \n",
    "    #Makes a copy of the original number num    \n",
    "    n = num;    \n",
    "     \n",
    "    #Calculates the sum of digits powered with their respective position    \n",
    "    while(num > 0): \n",
    "        rem = num%10    \n",
    "        s += int(rem**len1)  \n",
    "        num = num//10  \n",
    "        len1 -= 1    \n",
    "     \n",
    "   #Checks whether the sum is equal to the number itself    \n",
    "    if(s == n):\n",
    "        return True    \n",
    "    else: \n",
    "        return False\n",
    "    return\n",
    "\n",
    "num=int(input('Enter a Number :'))\n",
    "is_disarium(num)"
   ]
  },
  {
   "cell_type": "code",
   "execution_count": null,
   "metadata": {},
   "outputs": [],
   "source": []
  }
 ],
 "metadata": {
  "kernelspec": {
   "display_name": "Python 3",
   "language": "python",
   "name": "python3"
  },
  "language_info": {
   "codemirror_mode": {
    "name": "ipython",
    "version": 3
   },
   "file_extension": ".py",
   "mimetype": "text/x-python",
   "name": "python",
   "nbconvert_exporter": "python",
   "pygments_lexer": "ipython3",
   "version": "3.6.4"
  }
 },
 "nbformat": 4,
 "nbformat_minor": 2
}
