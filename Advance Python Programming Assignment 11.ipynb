{
 "cells": [
  {
   "cell_type": "markdown",
   "metadata": {},
   "source": [
    "1. Create a function that takes a list and returns a new list containing only prime numbers.\n",
    "\n",
    "Examples\n",
    "\n",
    "filter_primes([7, 9, 3, 9, 10, 11, 27]) ➞ [7, 3, 11]\n",
    "\n",
    "filter_primes([10007, 1009, 1007, 27, 147, 77, 1001, 70]) ➞ [10007, 1009]\n",
    "\n",
    "filter_primes([1009, 10, 10, 10, 3, 33, 9, 4, 1, 61, 63, 69, 1087, 1091, 1093, 1097]) ➞ [1009, 3, 61, 1087, 1091, 1093, 1097]"
   ]
  },
  {
   "cell_type": "code",
   "execution_count": 18,
   "metadata": {},
   "outputs": [
    {
     "name": "stdout",
     "output_type": "stream",
     "text": [
      "filter_primes( [1009, 10, 10, 10, 3, 33, 9, 4, 1, 61, 63, 69, 1087, 1091, 1093, 1097] ) ➞ [1009, 3, 61, 1087, 1091, 1093, 1097]\n"
     ]
    }
   ],
   "source": [
    "def filter_primes(a):\n",
    "    l=[]\n",
    "    try:\n",
    "        for i in a:\n",
    "            if i > 1:\n",
    "                for j in range(2,i):\n",
    "                    if i%j == 0:\n",
    "                        break\n",
    "                else:\n",
    "                    l.append(i)\n",
    "    except Exception as e:\n",
    "        print('Exception is :',e)\n",
    "    finally :\n",
    "        return l\n",
    "\n",
    "a= [1009, 10, 10, 10, 3, 33, 9, 4, 1, 61, 63, 69, 1087, 1091, 1093, 1097]\n",
    "prm= filter_primes(a)\n",
    "print('filter_primes(',a,') ➞',prm)"
   ]
  },
  {
   "cell_type": "markdown",
   "metadata": {},
   "source": [
    "2. Once a water balloon pops, is soaks the area around it. The ground gets drier the further away you travel from the balloon.\n",
    "\n",
    "The effect of a water balloon popping can be modeled using a list. Create a function that takes a list which takes the pre-pop state and returns the state after the balloon is popped. The pre-pop state will contain at most a single balloon, whose size is represented by the only non-zero element.\n",
    "\n",
    "Examples\n",
    "pop([0, 0, 0, 0, 4, 0, 0, 0, 0]) ➞ [0, 1, 2, 3, 4, 3, 2, 1, 0]\n",
    "\n",
    "pop([0, 0, 0, 3, 0, 0, 0]) ➞ [0, 1, 2, 3, 2, 1, 0]\n",
    "\n",
    "pop([0, 0, 2, 0, 0]) ➞ [0, 1, 2, 1, 0]\n",
    "\n",
    "pop([0]) ➞ [0]"
   ]
  },
  {
   "cell_type": "code",
   "execution_count": 19,
   "metadata": {},
   "outputs": [
    {
     "name": "stdout",
     "output_type": "stream",
     "text": [
      "pop([0, 0, 0, 0, 4, 0, 0, 0, 0]) ➞ [0, 1, 2, 3, 4, 3, 2, 1, 0]\n"
     ]
    }
   ],
   "source": [
    "def pop(z):\n",
    "    l= 0\n",
    "    try:\n",
    "        \n",
    "        mod_lst=[]\n",
    "        for i in range(len(z)):\n",
    "            if z[i] != 0:\n",
    "                l=i\n",
    "        for i in range(len(z)):\n",
    "            if i == l:\n",
    "                mod_lst.append(l) \n",
    "            elif i < l:\n",
    "                mod_lst.append(i)\n",
    "            elif i > l:\n",
    "                mod_lst.append(l-(i-l))\n",
    "    except Exception as e:\n",
    "        print(e)\n",
    "    finally :\n",
    "        return (mod_lst)\n",
    "    \n",
    "\n",
    "z= [0, 0, 0, 0, 4, 0, 0, 0, 0]\n",
    "lst= pop(z)\n",
    "print('pop('+str(z)+') ➞', lst)    "
   ]
  },
  {
   "cell_type": "markdown",
   "metadata": {},
   "source": [
    "3. \"Loves me, loves me not\" is a traditional game in which a person plucks off all the petals of a flower one by one, saying the phrase \"Loves me\" and \"Loves me not\" when determining whether the one that they love, loves them back.\n",
    "\n",
    "Given a number of petals, return a string which repeats the phrases \"Loves me\" and \"Loves me not\" for every alternating petal, and return the last phrase in all caps. Remember to put a comma and space between phrases.\n",
    "\n",
    "Examples\n",
    "loves_me(3) ➞ \"Loves me, Loves me not, LOVES ME\"\n",
    "\n",
    "loves_me(6) ➞ \"Loves me, Loves me not, Loves me, Loves me not, Loves me, LOVES ME NOT\"\n",
    "\n",
    "loves_me(1) ➞ \"LOVES ME\""
   ]
  },
  {
   "cell_type": "code",
   "execution_count": 20,
   "metadata": {},
   "outputs": [
    {
     "name": "stdout",
     "output_type": "stream",
     "text": [
      "loves_me( 6 ) ➞ loves me,loves me not,loves me,loves me not,loves me,loves me not,\n"
     ]
    }
   ],
   "source": [
    "def loves_me(n):\n",
    "    l= ''\n",
    "    try:\n",
    "        \n",
    "        for i in range(1,n+1):\n",
    "            if i%2 != 0:\n",
    "                l=l+'loves me,'\n",
    "            else:\n",
    "                l=l+'loves me not,'\n",
    "    except Exception as e:\n",
    "        print(e)\n",
    "    finally :\n",
    "        return l   \n",
    "\n",
    "n= 6\n",
    "s1=loves_me(n)\n",
    "print('loves_me(',n,') ➞',s1)"
   ]
  },
  {
   "cell_type": "markdown",
   "metadata": {},
   "source": [
    "4. Write a function that sorts each string in a list by the letter in alphabetic ascending order (a-z).\n",
    "\n",
    "Examples\n",
    "\n",
    "sort_by_letter([\"932c\", \"832u32\", \"2344b\"])\n",
    "➞ [\"2344b\", \"932c\", \"832u32\"]\n",
    "\n",
    "sort_by_letter([\"99a\", \"78b\", \"c2345\", \"11d\"])\n",
    "➞ [\"99a\", \"78b\", \"c2345\", \"11d\"]\n",
    "\n",
    "sort_by_letter([\"572z\", \"5y5\", \"304q2\"])\n",
    "➞ [\"304q2\", \"5y5\", \"572z\"]\n",
    "\n",
    "sort_by_letter([])\n",
    "➞ []"
   ]
  },
  {
   "cell_type": "code",
   "execution_count": 21,
   "metadata": {},
   "outputs": [
    {
     "name": "stdout",
     "output_type": "stream",
     "text": [
      "sort_by_letter( ['572z', '5y5', '304q2'] ) ➞ ['304q2', '5y5', '572z']\n"
     ]
    }
   ],
   "source": [
    "def sort_by_letter(l):\n",
    "    res= []\n",
    "    sort_lst=[]\n",
    "    try:\n",
    "        \n",
    "        for i in l:\n",
    "            res.append( re.findall(r'\\D[\\w]{0}',i))\n",
    "\n",
    "        #convert res to 1D list\n",
    "        flat_list = [item for sublist in res for item in sublist] \n",
    "\n",
    "\n",
    "        #sort  the list\n",
    "        for i in sorted(flat_list):\n",
    "            for j in l:\n",
    "                if i in j:\n",
    "                    sort_lst.append(j)\n",
    "    except Exception as e:\n",
    "        print(e)\n",
    "    finally :\n",
    "        return sort_lst\n",
    "    \n",
    "\n",
    "import re\n",
    "l= [\"572z\", \"5y5\", \"304q2\"]\n",
    "ll = sort_by_letter(l)\n",
    "print('sort_by_letter(',l,') ➞',ll)"
   ]
  },
  {
   "cell_type": "markdown",
   "metadata": {},
   "source": [
    "5. There are three cups on a table, at positions A, B, and C. At the start, there is a ball hidden under the cup at position\n",
    "\n",
    "However, I perform several swaps on the cups, which is notated as two letters. For example, if I swap the cups at positions A and B, I could notate this as AB or BA.\n",
    "\n",
    "Create a function that returns the letter position that the ball is at, once I finish swapping the cups. The swaps will be given to you as a list.\n",
    "\n",
    "Example\n",
    "\n",
    "cup_swapping([\"AB\", \"CA\", \"AB\"]) ➞ \"C\"\n",
    "\n",
    "# Ball begins at position B.\n",
    "# Cups A and B swap, so the ball is at position A.\n",
    "# Cups C and A swap, so the ball is at position C.\n",
    "# Cups A and B swap, but the ball is at position C, so it doesn't move.\n"
   ]
  },
  {
   "cell_type": "code",
   "execution_count": 22,
   "metadata": {},
   "outputs": [
    {
     "name": "stdout",
     "output_type": "stream",
     "text": [
      "cup_swapping( ['AB', 'CA', 'AB'] ) ➞ C\n"
     ]
    }
   ],
   "source": [
    "def cup_swapping(lst):\n",
    "    try:\n",
    "        \n",
    "        pos='B'\n",
    "        for i in lst:\n",
    "            if pos in i:\n",
    "                pos= i[0]\n",
    "            else:\n",
    "                pass\n",
    "    except Exception as e :\n",
    "        print(e)\n",
    "    finally:\n",
    "        return pos\n",
    "    \n",
    "lst= [\"AB\", \"CA\", \"AB\"] \n",
    "x= cup_swapping(lst)\n",
    "print('cup_swapping(',lst,') ➞',x)"
   ]
  },
  {
   "cell_type": "code",
   "execution_count": null,
   "metadata": {},
   "outputs": [],
   "source": []
  }
 ],
 "metadata": {
  "kernelspec": {
   "display_name": "Python 3",
   "language": "python",
   "name": "python3"
  },
  "language_info": {
   "codemirror_mode": {
    "name": "ipython",
    "version": 3
   },
   "file_extension": ".py",
   "mimetype": "text/x-python",
   "name": "python",
   "nbconvert_exporter": "python",
   "pygments_lexer": "ipython3",
   "version": "3.6.4"
  }
 },
 "nbformat": 4,
 "nbformat_minor": 2
}
