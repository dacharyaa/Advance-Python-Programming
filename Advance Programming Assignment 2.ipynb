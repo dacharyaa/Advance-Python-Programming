{
 "cells": [
  {
   "cell_type": "markdown",
   "metadata": {},
   "source": [
    "1. Write a function that takes a positive integer num and calculates how many dots exist in a pentagonal shape around the center dot on the Nth iteration.\n",
    "\n",
    "In the image below you can see the first iteration is only a single dot. On the second, there are 6 dots. On the third, there are 16 dots, and on the fourth there are 31 dots.\n"
   ]
  },
  {
   "cell_type": "code",
   "execution_count": 18,
   "metadata": {},
   "outputs": [
    {
     "name": "stdout",
     "output_type": "stream",
     "text": [
      "Please Enter Positive Integer Number :4\n",
      "4th pentagonal number :  31.0\n"
     ]
    }
   ],
   "source": [
    "def pentagonal(n): \n",
    "  \n",
    "    return (5 * n * n - 5 * n + 2) / 2\n",
    "  \n",
    "n = int(input('Please Enter Positive Integer Number :'))\n",
    "print(\"%sth pentagonal number : \" %n,pentagonal(n)) "
   ]
  },
  {
   "cell_type": "markdown",
   "metadata": {},
   "source": [
    "Given the month and year as numbers, return whether that month contains a Friday 13th.(i.e You can check Python's datetime module)\n",
    "\n",
    "Examples\n",
    "\n",
    "has_friday_13(3, 2020) ➞ True\n",
    "\n",
    "has_friday_13(10, 2017) ➞ True\n",
    "\n",
    "has_friday_13(1, 1985) ➞ False"
   ]
  },
  {
   "cell_type": "code",
   "execution_count": 3,
   "metadata": {},
   "outputs": [
    {
     "data": {
      "text/plain": [
       "True"
      ]
     },
     "execution_count": 3,
     "metadata": {},
     "output_type": "execute_result"
    }
   ],
   "source": [
    "import datetime\n",
    "\n",
    "def has_friday_13(m, y):\n",
    "    d=13\n",
    "    datee = datetime.date(y,m,d)\n",
    "    weekDays = (\"Monday\",\"Tuesday\",\"Wednesday\",\"Thursday\",\"Friday\",\"Saturday\",\"Sunday\")\n",
    "\n",
    "    whichDayFormat  = datee.weekday()\n",
    "    if whichDayFormat==4:\n",
    "        return True\n",
    "    else:\n",
    "        return False\n",
    "    return\n",
    "x=has_friday_13(10, 2017)\n",
    "x\n",
    "    "
   ]
  },
  {
   "cell_type": "markdown",
   "metadata": {},
   "source": [
    "2.  Make a function that encrypts a given input with these steps:\n",
    "\n",
    "Input: \"apple\"\n",
    "\n",
    "Step 1: Reverse the input: \"elppa\"\n",
    "Step 2: Replace all vowels using the following chart:\n",
    "a => 0\n",
    "e => 1\n",
    "i => 2\n",
    "o => 2\n",
    "u => 3\n",
    "Step 3: Add \"aca\" to the end of the word: \"1lpp0aca\"\n",
    "Output: \"1lpp0aca\"\n",
    "Examples\n",
    "encrypt(\"banana\") ➞ \"0n0n0baca\"\n",
    "encrypt(\"karaca\") ➞ \"0c0r0kaca\"\n",
    "encrypt(\"burak\") ➞ \"k0r3baca\"\n",
    "encrypt(\"alpaca\") ➞ \"0c0pl0aca\"\n"
   ]
  },
  {
   "cell_type": "code",
   "execution_count": 8,
   "metadata": {},
   "outputs": [
    {
     "name": "stdout",
     "output_type": "stream",
     "text": [
      "Enter a string you want to Encrypt:ALPAca\n",
      "String after encryption : 0c0pl0aca\n"
     ]
    }
   ],
   "source": [
    "def encrypt(a):\n",
    "    c=a[::-1]\n",
    "    l1=list(c)\n",
    "    d={'a':'0','e':'1','i':'2','o':'2','u':'3'}\n",
    "    \n",
    "    for i in range(len(l1)):\n",
    "        if l1[i] in d:\n",
    "            l1[i]= d[l1[i]]\n",
    "    str1 = \"\"  \n",
    "    str1=str1.join(l1) \n",
    "    return str1+\"aca\"\n",
    "\n",
    "a=input('Enter a string you want to Encrypt:').lower()\n",
    "b=encrypt(a)\n",
    "print('String after encryption :',b)"
   ]
  },
  {
   "cell_type": "markdown",
   "metadata": {},
   "source": [
    "4. Write a regular expression that will help us count how many bad cookies are produced every day. You must use RegEx negative lookbehind.\n",
    "\n",
    "Example\n",
    "lst = [\"bad cookie\", \"good cookie\", \"bad cookie\", \"good cookie\", \"good cookie\"]\n",
    "pattern = \"yourregularexpressionhere\"\n",
    "len(re.findall(pattern, \", \".join(lst))) ➞ 2"
   ]
  },
  {
   "cell_type": "code",
   "execution_count": 10,
   "metadata": {},
   "outputs": [
    {
     "name": "stdout",
     "output_type": "stream",
     "text": [
      "['bad cookie', 'good cookie', 'bad cookie', 'good cookie', 'good cookie']\n"
     ]
    },
    {
     "data": {
      "text/plain": [
       "['bad', 'bad']"
      ]
     },
     "execution_count": 10,
     "metadata": {},
     "output_type": "execute_result"
    }
   ],
   "source": [
    "import re\n",
    "\n",
    "lst = [\"bad cookie\",\"good cookie\",\"bad cookie\",\"good cookie\",\"good cookie\"]\n",
    "s=str(lst)\n",
    "print(s)\n",
    "res=re.findall(r'\\bbad[\\w]*',s)\n",
    "res"
   ]
  },
  {
   "cell_type": "markdown",
   "metadata": {},
   "source": [
    "5. Given a list of words in the singular form, return a set of those words in the plural form if they appear more than once in the list.\n",
    "Examples\n",
    "pluralize([\"cow\", \"pig\", \"cow\", \"cow\"]) ➞ { \"cows\", \"pig\" }\n",
    "pluralize([\"table\", \"table\", \"table\"]) ➞ { \"tables\" }\n",
    "pluralize([\"chair\", \"pencil\", \"arm\"]) ➞ { \"chair\", \"pencil\", \"arm\" }"
   ]
  },
  {
   "cell_type": "code",
   "execution_count": 17,
   "metadata": {},
   "outputs": [
    {
     "name": "stdout",
     "output_type": "stream",
     "text": [
      "Dictionary is : {'cow': 3, 'pig': 1}\n",
      "Plural form : {'pig', 'cows'}\n"
     ]
    }
   ],
   "source": [
    "def pluralize(l):\n",
    "    dic={}\n",
    "    l1=[]\n",
    "    s=set()\n",
    "    for i in l:\n",
    "        dic[i]= l.count(i)\n",
    "    print('Dictionary is :',dic)\n",
    "    for i in dic:\n",
    "           \n",
    "        if (dic[i]) >1:\n",
    "            l1.append(i+'s')\n",
    "        else:\n",
    "            l1.append(i)\n",
    "    return set(l1)\n",
    "    \n",
    "\n",
    "l = ['cow','pig','cow','cow']\n",
    "s2= pluralize(l)\n",
    "print('Plural form :',s2)     \n",
    "  "
   ]
  },
  {
   "cell_type": "code",
   "execution_count": null,
   "metadata": {},
   "outputs": [],
   "source": []
  },
  {
   "cell_type": "code",
   "execution_count": null,
   "metadata": {},
   "outputs": [],
   "source": []
  },
  {
   "cell_type": "code",
   "execution_count": null,
   "metadata": {},
   "outputs": [],
   "source": []
  }
 ],
 "metadata": {
  "kernelspec": {
   "display_name": "Python 3",
   "language": "python",
   "name": "python3"
  },
  "language_info": {
   "codemirror_mode": {
    "name": "ipython",
    "version": 3
   },
   "file_extension": ".py",
   "mimetype": "text/x-python",
   "name": "python",
   "nbconvert_exporter": "python",
   "pygments_lexer": "ipython3",
   "version": "3.6.4"
  }
 },
 "nbformat": 4,
 "nbformat_minor": 2
}
