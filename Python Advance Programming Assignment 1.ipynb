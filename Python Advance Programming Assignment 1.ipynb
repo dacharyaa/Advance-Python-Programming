{
 "cells": [
  {
   "cell_type": "markdown",
   "metadata": {},
   "source": [
    "1. Write a function that takes a list of lists and returns the value of all of the symbols in it, where each symbol adds or takes something from the total score. Symbol values:\n",
    "\n",
    "# = 5\n",
    "O = 3\n",
    "X = 1\n",
    "! = -1\n",
    "!! = -3\n",
    "!!! = -5\n",
    "\n",
    "A list of lists containing 2 #s, a O, and a !!! would equal (0 + 5 + 5 + 3 - 5) 8.\n",
    "\n",
    "If the final score is negative, return 0 (e.g. 3 #s, 3 !!s, 2 !!!s and a X would be (0 + 5 + 5 + 5 - 3 - 3 - 3 - 5 - 5 + 1) -3, so return 0.\n"
   ]
  },
  {
   "cell_type": "code",
   "execution_count": 4,
   "metadata": {},
   "outputs": [
    {
     "name": "stdout",
     "output_type": "stream",
     "text": [
      "0\n"
     ]
    }
   ],
   "source": [
    "def check_score(a):\n",
    "    cnt=0\n",
    "    for i in range(len(a)) :\n",
    "        for j in range(len(a[i])) :\n",
    "            if a[i][j]== '#':\n",
    "                cnt+=5\n",
    "            elif a[i][j]==\"!\":\n",
    "                cnt+=-1\n",
    "            elif a[i][j]==\"!!\":\n",
    "                cnt+=-3\n",
    "            elif a[i][j]==\"X\":\n",
    "                cnt+=1\n",
    "            elif a[i][j]==\"O\":\n",
    "                cnt+=3\n",
    "            elif a[i][j]==\"!!!\":\n",
    "                cnt+=-5\n",
    "    if cnt <0:\n",
    "        cnt=0\n",
    "    else:\n",
    "        pass\n",
    "    return cnt\n",
    "\n",
    "a=[\n",
    "  [\"!!!\", \"O\", \"!\"],\n",
    "  [\"X\", \"#\", \"!!!\"],\n",
    "  [\"!!\", \"X\", \"O\"]\n",
    "] \n",
    "b=check_score(a)\n",
    "print(b)"
   ]
  },
  {
   "cell_type": "markdown",
   "metadata": {},
   "source": [
    "Create a function that takes a variable number of arguments, each argument representing the number of items in a group, and returns the number of permutations (combinations) of items that you could get by taking one item from each group.\n",
    "\n",
    "Examples\n",
    "\n",
    "combinations(2, 3) ➞ 6\n",
    "\n",
    "combinations(3, 7, 4) ➞ 84\n",
    "\n",
    "combinations(2, 3, 4, 5) ➞ 120\n"
   ]
  },
  {
   "cell_type": "code",
   "execution_count": 4,
   "metadata": {},
   "outputs": [
    {
     "name": "stdout",
     "output_type": "stream",
     "text": [
      "Permutaion combinations are : 6\n"
     ]
    }
   ],
   "source": [
    "def combinations(*args):\n",
    "    mul=1\n",
    "    for i in args:\n",
    "        mul*=i\n",
    "    return mul\n",
    "\n",
    "mul1=combinations(2,3)\n",
    "print('Permutaion combinations are :',mul1)"
   ]
  },
  {
   "cell_type": "markdown",
   "metadata": {},
   "source": [
    "3. Create a function that takes a string as an argument and returns the Morse code equivalent.\n",
    "\n",
    "Examples\n",
    "\n",
    "encode_morse(\"EDABBIT CHALLENGE\") ➞ \". -.. .- -... -... .. -   -.-. .... .- .-.. .-.. . -. --. .\"\n"
   ]
  },
  {
   "cell_type": "code",
   "execution_count": 7,
   "metadata": {},
   "outputs": [
    {
     "name": "stdout",
     "output_type": "stream",
     "text": [
      "Enter a String :HELP ME !\n",
      "......-...--. --. -.-.--\n"
     ]
    }
   ],
   "source": [
    "def encode_morse(str):\n",
    "    str1=''\n",
    "    for i in range(len(str)):\n",
    "        if str[i] in char_to_dots:\n",
    "            l.append(char_to_dots[str[i]])\n",
    "    for ele in l: \n",
    "        str1 += ele \n",
    "    return str1\n",
    "\n",
    "l=[]\n",
    "str=input('Enter a String :').upper()\n",
    "#str=\"EDABBIT CHALLENGE\"\n",
    "\n",
    "char_to_dots = {\n",
    "  'A': '.-', 'B': '-...', 'C': '-.-.', 'D': '-..', 'E': '.', 'F': '..-.',\n",
    "  'G': '--.', 'H': '....', 'I': '..', 'J': '.---', 'K': '-.-', 'L': '.-..',\n",
    "  'M': '--', 'N': '-.', 'O': '---', 'P': '.--.', 'Q': '--.-', 'R': '.-.',\n",
    "  'S': '...', 'T': '-', 'U': '..-', 'V': '...-', 'W': '.--', 'X': '-..-',\n",
    "  'Y': '-.--', 'Z': '--..', ' ': ' ', '0': '-----',\n",
    "  '1': '.----', '2': '..---', '3': '...--', '4': '....-', '5': '.....',\n",
    "  '6': '-....', '7': '--...', '8': '---..', '9': '----.',\n",
    "  '&': '.-...', \"'\": '.----.', '@': '.--.-.', ')': '-.--.-', '(': '-.--.',\n",
    "  ':': '---...', ',': '--..--', '=': '-...-', '!': '-.-.--', '.': '.-.-.-',\n",
    "  '-': '-....-', '+': '.-.-.', '\"': '.-..-.', '?': '..--..', '/': '-..-.'\n",
    "}\n",
    "str2=encode_morse(str)\n",
    "print(str2)"
   ]
  },
  {
   "cell_type": "markdown",
   "metadata": {},
   "source": [
    "4.  Write a function that takes a number and returns True if it's a prime; False otherwise. The number can be 2^64-1 (2 to the power of 63, not XOR). With the standard technique it would be O(2^64-1), which is much too large for the 10 second time limit.\n",
    "\n",
    "Examples\n",
    "\n",
    "prime(7) ➞ True\n",
    "\n",
    "prime(56963) ➞ True\n",
    "\n",
    "prime(5151512515524) ➞ False\n"
   ]
  },
  {
   "cell_type": "code",
   "execution_count": 11,
   "metadata": {},
   "outputs": [
    {
     "name": "stdout",
     "output_type": "stream",
     "text": [
      "Enter Integer Number :7\n",
      "True\n"
     ]
    }
   ],
   "source": [
    "def prime(a) :\n",
    "    cnt=0\n",
    "    for i in range(2,a):\n",
    "        if a%i== 0:\n",
    "            cnt+=1\n",
    "        continue    \n",
    "    return cnt\n",
    "a=int(input('Enter Integer Number :')) \n",
    "b=prime(a)\n",
    "if b > 1:\n",
    "        print(\"False\")\n",
    "elif b ==0:\n",
    "        print(\"True\")\n"
   ]
  },
  {
   "cell_type": "markdown",
   "metadata": {},
   "source": [
    "5.  Create a function that converts a word to a bitstring and then to a boolean list based on the following criteria:\n",
    "\n",
    "    1. Locate the position of the letter in the English alphabet (from 1 to 26).\n",
    "    2. Odd positions will be represented as 1 and 0 otherwise.\n",
    "    3. Convert the represented positions to boolean values, 1 for True and 0 for False.\n",
    "    4. Store the conversions into an array.\n",
    "\n",
    " Examples\n",
    "\n",
    "to_boolean_list(\"deep\") ➞ [False, True, True, False]\n",
    "# deep converts to 0110\n",
    "# d is the 4th alphabet - 0\n",
    "# e is the 5th alphabet - 1\n",
    "# e is the 5th alphabet - 1\n",
    "# p is the 16th alphabet - 0\n",
    "\n",
    "to_boolean_list(\"loves\") ➞ [False, True, False, True, True]\n",
    "\n",
    "to_boolean_list(\"tesh\") ➞ [False, True, True, False]\n"
   ]
  },
  {
   "cell_type": "code",
   "execution_count": 13,
   "metadata": {},
   "outputs": [
    {
     "name": "stdout",
     "output_type": "stream",
     "text": [
      "Enter a word to convert to a bitstring  :DEEp\n",
      "deep Boolean List : ['False', 'True', 'True', 'False']\n"
     ]
    }
   ],
   "source": [
    "def to_boolean_list(str) :\n",
    "    \n",
    "    for i in range(len(str)):\n",
    "        if str[i] in char:\n",
    "            if (char[str[i]] %2) ==0:\n",
    "                l.append('False')\n",
    "            else:\n",
    "                l.append('True')\n",
    "    return l\n",
    "\n",
    "char = {\n",
    "  'a': 1, 'b': 2, 'c': 3, 'd': 4, 'e':5, 'f': 6,\n",
    "  'g': 7, 'h': 8, 'i': 9, 'j': 10, 'k': 11, 'l': 12,\n",
    "  'm': 13, 'n': 14, 'o': 15, 'p': 16, 'q': 17, 'r': 18,\n",
    "  's': 19, 't': 20, 'u': 21, 'v': 22, 'w': 23, 'x': 24,\n",
    "  'y': 25, 'z': 26}\n",
    "l=[]\n",
    "str=input('Enter a word to convert to a bitstring  :').lower()\n",
    "l1=to_boolean_list(str) \n",
    "print(\"{} Boolean List :\".format(str),l)"
   ]
  },
  {
   "cell_type": "code",
   "execution_count": null,
   "metadata": {},
   "outputs": [],
   "source": []
  },
  {
   "cell_type": "code",
   "execution_count": null,
   "metadata": {},
   "outputs": [],
   "source": []
  },
  {
   "cell_type": "code",
   "execution_count": null,
   "metadata": {},
   "outputs": [],
   "source": []
  }
 ],
 "metadata": {
  "kernelspec": {
   "display_name": "Python 3",
   "language": "python",
   "name": "python3"
  },
  "language_info": {
   "codemirror_mode": {
    "name": "ipython",
    "version": 3
   },
   "file_extension": ".py",
   "mimetype": "text/x-python",
   "name": "python",
   "nbconvert_exporter": "python",
   "pygments_lexer": "ipython3",
   "version": "3.6.4"
  }
 },
 "nbformat": 4,
 "nbformat_minor": 2
}
