{
 "cells": [
  {
   "cell_type": "markdown",
   "metadata": {},
   "source": [
    "1. Given a sentence as txt, return True if any two adjacent words have this property: One word ends with a vowel, while the word immediately after begins with a vowel (a e i o u).\n",
    "\n",
    "Examples\n",
    "vowel_links(\"a very large appliance\") ➞ True\n",
    "vowel_links(\"go to edabit\") ➞ True\n",
    "vowel_links(\"an open fire\") ➞ False\n",
    "vowel_links(\"a sudden applause\") ➞ False"
   ]
  },
  {
   "cell_type": "code",
   "execution_count": 2,
   "metadata": {},
   "outputs": [
    {
     "data": {
      "text/plain": [
       "False"
      ]
     },
     "execution_count": 2,
     "metadata": {},
     "output_type": "execute_result"
    }
   ],
   "source": [
    "def vowel_links(a):\n",
    "    s1=a.split(' ')\n",
    "    x=True\n",
    "    v1=('a','e','i','o','u','A','E','I','O','U')\n",
    "    #logic to check one word ends with a vowel, while the word immediately after begins with a vowel \n",
    "    for i in range(len(s1)-1):\n",
    "        if (s1[i].endswith(v1)):\n",
    "            if (s1[i+1].startswith(v1)):\n",
    "                print(s1[i])\n",
    "                x=True\n",
    "        else:\n",
    "            x=False\n",
    "    return x\n",
    "\n",
    "a=\"an open fire\"\n",
    "\n",
    "bool=vowel_links(a)    \n",
    "bool    "
   ]
  },
  {
   "cell_type": "markdown",
   "metadata": {},
   "source": [
    "2. You are given three inputs: a string, one letter, and a second letter.\n",
    "Write a function that returns True if every instance of the first letter occurs before every instance of the second letter.\n",
    "\n",
    "Examples\n",
    "first_before_second(\"a rabbit jumps joyfully\", \"a\", \"j\") ➞ True\n",
    "# Every instance of \"a\" occurs before every instance of \"j\".\n",
    "\n",
    "first_before_second(\"knaves knew about waterfalls\", \"k\", \"w\") ➞  True\n",
    "\n",
    "first_before_second(\"happy birthday\", \"a\", \"y\") ➞ False\n",
    "# The \"a\" in \"birthday\" occurs after the \"y\" in \"happy\".\n",
    "\n",
    "first_before_second(\"precarious kangaroos\", \"k\", \"a\") ➞ False"
   ]
  },
  {
   "cell_type": "code",
   "execution_count": 9,
   "metadata": {},
   "outputs": [
    {
     "name": "stdout",
     "output_type": "stream",
     "text": [
      "first_before_second( <class 'str'> , a , j ) --> True\n"
     ]
    }
   ],
   "source": [
    "def first_before_second(str1, s1,s2):\n",
    "    lst=list(str1)\n",
    "    cnt_a=0\n",
    "    cnt_j=0\n",
    "    #store 1st and 2nd char in a list\n",
    "    for i in lst:\n",
    "        cnt_a +=1\n",
    "        cnt_j +=1\n",
    "        if i==s1:\n",
    "            lst_1st.append(cnt_a)\n",
    "        if i==s2:\n",
    "            lst_2nd.append(cnt_j)\n",
    "    #compare two list logic\n",
    "    for i in range(len(lst_1st)):\n",
    "        x=True\n",
    "        for j in range(len(lst_2nd)):\n",
    "            #print(lst_1st[i],lst_2nd[j])\n",
    "            if lst_1st[i] < lst_2nd[j]:\n",
    "                x= True\n",
    "            else:\n",
    "                x= False\n",
    "                break\n",
    "    return x \n",
    "\n",
    "\n",
    "str1=\"a rabbit jumps joyfully\"\n",
    "s1= \"a\" \n",
    "s2= \"j\"\n",
    "\n",
    "lst_1st=[]\n",
    "lst_2nd=[]\n",
    "bool=first_before_second(str1,s1,s2)\n",
    "print('first_before_second(',str,',',s1,',',s2,') -->',bool)"
   ]
  },
  {
   "cell_type": "markdown",
   "metadata": {},
   "source": [
    "3. Create a function that returns the characters from a list or string r on odd or even positions, depending on the specifier s. The specifier will be \"odd\" for items on odd positions (1, 3, 5, ...) and \"even\" for items on even positions (2, 4, 6, ...).\n",
    "\n",
    "Examples\n",
    "char_at_pos([2, 4, 6, 8, 10], \"even\") ➞ [4, 8]\n",
    "# 4 & 8 occupy the 2nd & 4th positions\n",
    "\n",
    "char_at_pos(\"EDABIT\", \"odd\") ➞ \"EAI\"\n",
    "# \"E\", \"A\" and \"I\" occupy the 1st, 3rd and 5th positions\n",
    "\n",
    "char_at_pos([\"A\", \"R\", \"B\", \"I\", \"T\", \"R\", \"A\", \"R\", \"I\", \"L\", \"Y\"], \"odd\") ➞ [\"A\", \"B\", \"T\", \"A\", \"I\", \"Y\"]"
   ]
  },
  {
   "cell_type": "code",
   "execution_count": 21,
   "metadata": {},
   "outputs": [
    {
     "name": "stdout",
     "output_type": "stream",
     "text": [
      "char_at_pos( ['A', 'R', 'B', 'I', 'T', 'R', 'A', 'R', 'I', 'L', 'Y'] , odd ) --> ['A', 'B', 'T', 'A', 'I', 'Y']\n"
     ]
    }
   ],
   "source": [
    "def char_at_pos(str1, t):\n",
    "    l=[]\n",
    "    if t=='even':\n",
    "        for i in range(1,len(str1),2):\n",
    "            l.append(str1[i])\n",
    "    elif t== 'odd' :\n",
    "        for i in range(0,len(str1),2):\n",
    "            l.append(str1[i])\n",
    "    return l    \n",
    "\n",
    "str1=[\"A\", \"R\", \"B\", \"I\", \"T\", \"R\", \"A\", \"R\", \"I\", \"L\", \"Y\"]\n",
    "typee=\"odd\" \n",
    "x=char_at_pos(str1, typee)\n",
    "print('char_at_pos(',str1,',',typee,') -->',x)\n",
    "    "
   ]
  },
  {
   "cell_type": "markdown",
   "metadata": {},
   "source": [
    "4. Write a function that returns the greatest common divisor of all list elements. If the greatest common divisor is 1, return 1.\n",
    "\n",
    "Examples\n",
    "GCD([10, 20, 40]) ➞ 10\n",
    "GCD([1, 2, 3, 100]) ➞ 1\n",
    "GCD([1024, 192, 2048, 512]) ➞ 64"
   ]
  },
  {
   "cell_type": "code",
   "execution_count": 26,
   "metadata": {},
   "outputs": [
    {
     "name": "stdout",
     "output_type": "stream",
     "text": [
      "GCD( [1024, 192, 2048, 512] ) --> 64\n"
     ]
    }
   ],
   "source": [
    "def findgcd(x, y):\n",
    "    while(y):\n",
    "        x, y = y, x % y\n",
    "    return x\n",
    "\n",
    "l = [1024, 192, 2048, 512]\n",
    "num1=l[0]\n",
    "num2=l[1]\n",
    "gcd=findgcd(num1,num2)\n",
    "for i in range(2,len(l)):\n",
    "    gcd=findgcd(gcd,l[i])\n",
    "print(\"GCD(\",l,') -->',gcd)"
   ]
  },
  {
   "cell_type": "markdown",
   "metadata": {},
   "source": [
    "5. A number/string is a palindrome if the digits/characters are the same when read both forward and backward. Examples include \"racecar\" and 12321. Given a positive number n, check if n or the binary representation of n is palindromic. Return the following:\n",
    "\n",
    "- \"Decimal only.\" if only n is a palindrome.\n",
    "- \"Binary only.\" if only the binary representation of n is a palindrome.\n",
    "- \"Decimal and binary.\" if both are palindromes.\n",
    "- \"Neither!\" if neither are palindromes.\n",
    "\n",
    "Examples\n",
    "palindrome_type(1306031) ➞ \"Decimal only.\"\n",
    "# decimal = 1306031\n",
    "# binary  = \"100111110110110101111\"\n",
    "\n",
    "palindrome_type(427787) ➞ \"Binary only.\"\n",
    "# decimal = 427787\n",
    "# binary  = \"1101000011100001011\"\n",
    "\n",
    "palindrome_type(313) ➞ \"Decimal and binary.\"\n",
    "# decimal = 313\n",
    "# binary  = 100111001\n",
    "\n",
    "palindrome_type(934) ➞ \"Neither!\"\n",
    "# decimal = 934\n",
    "# binary  = \"1110100110\""
   ]
  },
  {
   "cell_type": "code",
   "execution_count": 30,
   "metadata": {},
   "outputs": [
    {
     "name": "stdout",
     "output_type": "stream",
     "text": [
      "Enter a Number :427787\n",
      "palindrome_type( 427787 ) --> Binary only.\n"
     ]
    }
   ],
   "source": [
    "def palindrome_type(number):\n",
    "    \n",
    "    temp=number\n",
    "    x1= True\n",
    "    #calculate reverse of this number\n",
    "    reverse_num=0\n",
    "    while number > 0:\n",
    "        #extract last digit of this number\n",
    "        digit=number%10\n",
    "        #append this digit in reveresed number\n",
    "        reverse_num=reverse_num*10+digit\n",
    "        #floor divide the number leave out the last digit from number\n",
    "        number=number//10\n",
    "        #compare reverse to original number\n",
    "        if(temp==reverse_num):\n",
    "            x1= True\n",
    "        else:\n",
    "            x1= False\n",
    "    return x1  \n",
    "\n",
    "\n",
    "n= int(input('Enter a Number :'))\n",
    "#binary number conversion\n",
    "bn= int(bin(n)[2:])\n",
    "bool1= palindrome_type(n)\n",
    "bool2= palindrome_type(bn)\n",
    "if bool1== True and bool2 == False:\n",
    "    print('palindrome_type(',n,') -->','Decimal only.')\n",
    "elif bool1== False and bool2== True:\n",
    "    print('palindrome_type(',n,') -->','Binary only.')\n",
    "elif bool1== True and bool2 == True:\n",
    "    print('palindrome_type(',n,') -->','Decimal and Binary.')\n",
    "else:\n",
    "    print('palindrome_type(',n,') -->','Neither!')"
   ]
  },
  {
   "cell_type": "code",
   "execution_count": null,
   "metadata": {},
   "outputs": [],
   "source": []
  }
 ],
 "metadata": {
  "kernelspec": {
   "display_name": "Python 3",
   "language": "python",
   "name": "python3"
  },
  "language_info": {
   "codemirror_mode": {
    "name": "ipython",
    "version": 3
   },
   "file_extension": ".py",
   "mimetype": "text/x-python",
   "name": "python",
   "nbconvert_exporter": "python",
   "pygments_lexer": "ipython3",
   "version": "3.6.4"
  }
 },
 "nbformat": 4,
 "nbformat_minor": 2
}
