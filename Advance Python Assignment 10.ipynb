{
 "cells": [
  {
   "cell_type": "markdown",
   "metadata": {},
   "source": [
    "5. Write a regular expression that will match the states that voted yes to President Trump's impeachment. You must use RegEx positive lookahead.\n",
    "\n",
    "Example\n",
    "txt = \"Texas = no, California = yes, Florida = yes, Michigan = no\"\n",
    "pattern = \"yourregularexpressionhere\"\n",
    "re.findall(pattern, txt) ➞ [\"California\", \"Florida\"]"
   ]
  },
  {
   "cell_type": "code",
   "execution_count": 8,
   "metadata": {},
   "outputs": [
    {
     "data": {
      "text/plain": [
       "['California', 'Florida']"
      ]
     },
     "execution_count": 8,
     "metadata": {},
     "output_type": "execute_result"
    }
   ],
   "source": [
    "import re\n",
    "txt = \"Texas = no, California = yes, Florida = yes, Michigan = no\"\n",
    "#positive lookahead ?=\n",
    "pattern= re.compile(\"\\w+(?=\\s= yes)\")\n",
    "pattern.findall(txt)"
   ]
  },
  {
   "cell_type": "markdown",
   "metadata": {},
   "source": [
    "1. Create a function that takes the width, height and character and returns a picture frame as a 2D list.\n",
    "\n",
    "Examples\n",
    "\n",
    "get_frame(4, 5, \"#\") ➞ [\n",
    "  [\"####\"],\n",
    "  [\"#  #\"],\n",
    "  [\"#  #\"],\n",
    "  [\"#  #\"],\n",
    "  [\"####\"]\n",
    "]\n",
    "get_frame(10, 3, \"*\") ➞ [\n",
    "  [\"**********\"],\n",
    "  [\"*        *\"],\n",
    "  [\"**********\"]\n",
    "]"
   ]
  },
  {
   "cell_type": "code",
   "execution_count": 1,
   "metadata": {},
   "outputs": [
    {
     "name": "stdout",
     "output_type": "stream",
     "text": [
      " \n",
      " \n",
      " \n"
     ]
    },
    {
     "data": {
      "text/plain": [
       "[['#', '#', '#', '#', '#', '#', '#', '#', '#', '#'],\n",
       " ['#', ' ', ' ', ' ', ' ', ' ', ' ', ' ', ' ', '#'],\n",
       " ['#', '#', '#', '#', '#', '#', '#', '#', '#', '#']]"
      ]
     },
     "execution_count": 1,
     "metadata": {},
     "output_type": "execute_result"
    }
   ],
   "source": [
    "def get_frames(row_num,col_num,ch):\n",
    "        mat=[]\n",
    "        for i in range(row_num):\n",
    "            mat.append([])\n",
    "            for j in range(col_num):\n",
    "                mat[i].append(' ')\n",
    "            print(' ')\n",
    "        #printing character\n",
    "        for i in range(row_num):\n",
    "            for j in range(col_num)  :\n",
    "                if i==0 or i== row_num-1 :\n",
    "                    mat[i][j]=ch\n",
    "                else:\n",
    "                    mat[i][0]= ch \n",
    "                    mat[i][col_num-1] =ch           \n",
    "        return mat              \n",
    "\n",
    "row_num=3\n",
    "col_num=10\n",
    "ch='#'\n",
    "\n",
    "x=get_frames(row_num,col_num,ch)\n",
    "x"
   ]
  },
  {
   "cell_type": "markdown",
   "metadata": {},
   "source": [
    "2. Write three functions:\n",
    "\n",
    "  1. boolean_and\n",
    "  2. boolean_or\n",
    "  3. boolean_xor\n",
    "These functions should evaluate a list of True and False values, starting from the leftmost element and evaluating pairwise.\n",
    "Examples\n",
    "boolean_and([True, True, False, True]) ➞ False\n",
    "# [True, True, False, True] => [True, False, True] => [False, True] => False\n",
    "\n",
    "boolean_or([True, True, False, False]) ➞ True\n",
    "# [True, True, False, True] => [True, False, False] => [True, False] => True\n",
    "\n",
    "boolean_xor([True, True, False, False]) ➞ False\n",
    "# [True, True, False, False] => [False, False, False] => [False, False] => False"
   ]
  },
  {
   "cell_type": "code",
   "execution_count": 2,
   "metadata": {},
   "outputs": [
    {
     "name": "stdout",
     "output_type": "stream",
     "text": [
      "boolean_and( [True, True, False, True] )➞ False\n",
      "boolean_or( [True, True, False, False] )➞ True\n",
      "boolean_xor( [True, True, False, False] )➞ False\n"
     ]
    }
   ],
   "source": [
    "from operator import ixor\n",
    "from functools import reduce\n",
    "def boolean_and(lst):\n",
    "    res = all(lst)\n",
    "    return res\n",
    "def boolean_or(lst1):\n",
    "    res= any(lst1)\n",
    "    return res\n",
    "def boolean_xor(lst2):\n",
    "    res = reduce(ixor, lst2)\n",
    "    return res\n",
    "\n",
    "l= [True, True, False, True]\n",
    "b1=boolean_and(l)\n",
    "print('boolean_and(',l,')➞',b1)\n",
    "l2= [True, True, False, False]\n",
    "b2=boolean_or(l2)\n",
    "print('boolean_or(',l2,')➞',b2)\n",
    "l3= [True, True, False, False]\n",
    "b3=boolean_xor(l3)\n",
    "print('boolean_xor(',l3,')➞',b3)"
   ]
  },
  {
   "cell_type": "markdown",
   "metadata": {},
   "source": [
    "3. Create a function that creates a box based on dimension n.\n",
    "Examples\n",
    "make_box(5) ➞ [\n",
    "  \"#####\",\n",
    "  \"#   #\",\n",
    "  \"#   #\",\n",
    "  \"#   #\",\n",
    "  \"#####\"\n",
    "]\n",
    "make_box(3) ➞ [\n",
    "  \"###\",\n",
    "  \"# #\",\n",
    "  \"###\"\n",
    "]\n",
    "make_box(2) ➞ [\n",
    "  \"##\",\n",
    "  \"##\"\n",
    "]"
   ]
  },
  {
   "cell_type": "code",
   "execution_count": 3,
   "metadata": {},
   "outputs": [
    {
     "data": {
      "text/plain": [
       "[['#', '#', '#', '#', '#'],\n",
       " ['#', ' ', ' ', ' ', '#'],\n",
       " ['#', ' ', ' ', ' ', '#'],\n",
       " ['#', ' ', ' ', ' ', '#'],\n",
       " ['#', '#', '#', '#', '#']]"
      ]
     },
     "execution_count": 3,
     "metadata": {},
     "output_type": "execute_result"
    }
   ],
   "source": [
    "def make_box(row_num,col_num,ch):\n",
    "        mat=[]\n",
    "        for i in range(row_num):\n",
    "            mat.append([])\n",
    "            for j in range(col_num):\n",
    "                mat[i].append(' ')\n",
    "            \n",
    "        #printing character\n",
    "        for i in range(row_num):\n",
    "            for j in range(col_num)  :\n",
    "                if i==0 or i== row_num-1 :\n",
    "                    mat[i][j]=ch\n",
    "                else:\n",
    "                    mat[i][0]= ch \n",
    "                    mat[i][col_num-1] =ch           \n",
    "        return mat \n",
    "    \n",
    "row_num=5\n",
    "col_num=5\n",
    "ch='#'\n",
    "x=make_box(row_num,col_num,ch)\n",
    "x"
   ]
  },
  {
   "cell_type": "markdown",
   "metadata": {},
   "source": [
    "4. Given a common phrase, return False if any individual word in the phrase contains duplicate letters. Return True otherwise.\n",
    "\n",
    "Examples\n",
    "\n",
    "no_duplicate_letters(\"Fortune favours the bold.\") ➞ True\n",
    "\n",
    "no_duplicate_letters(\"You can lead a horse to water, but you can't make him drink.\") ➞ True\n",
    "\n",
    "no_duplicate_letters(\"Look before you leap.\") ➞ False\n",
    "# Duplicate letters in \"Look\" and \"before\".\n",
    "\n",
    "no_duplicate_letters(\"An apple a day keeps the doctor away.\") ➞ False\n",
    "# Duplicate letters in \"apple\", \"keeps\", \"doctor\", and \"away\".\n"
   ]
  },
  {
   "cell_type": "code",
   "execution_count": 31,
   "metadata": {},
   "outputs": [
    {
     "name": "stdout",
     "output_type": "stream",
     "text": [
      "no_duplicate_letters ➞ True\n"
     ]
    }
   ],
   "source": [
    "def no_duplicate_letters(str1):\n",
    "    s1=str1.split(' ')\n",
    "    dup_word=[]\n",
    "    x=True\n",
    "    for i in s1:\n",
    "        c=i\n",
    "        l=[]\n",
    "        l_dup=[]\n",
    "        for j in range(len(i)):\n",
    "            if c[j] not in l:\n",
    "                l.append(c[j])\n",
    "            else:\n",
    "                l_dup.append(c[j])\n",
    "        if len(l_dup)> 0:\n",
    "            dup_word.append(i)\n",
    "            x= True\n",
    "            break\n",
    "        else:\n",
    "            x= False\n",
    "    return  x  \n",
    "\n",
    "xx=no_duplicate_letters(\"An apple a day keeps the doctor away.\")\n",
    "print('no_duplicate_letters ➞',xx)"
   ]
  },
  {
   "cell_type": "code",
   "execution_count": null,
   "metadata": {},
   "outputs": [],
   "source": []
  }
 ],
 "metadata": {
  "kernelspec": {
   "display_name": "Python 3",
   "language": "python",
   "name": "python3"
  },
  "language_info": {
   "codemirror_mode": {
    "name": "ipython",
    "version": 3
   },
   "file_extension": ".py",
   "mimetype": "text/x-python",
   "name": "python",
   "nbconvert_exporter": "python",
   "pygments_lexer": "ipython3",
   "version": "3.6.4"
  }
 },
 "nbformat": 4,
 "nbformat_minor": 2
}
