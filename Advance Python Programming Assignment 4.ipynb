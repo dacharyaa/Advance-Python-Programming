{
 "cells": [
  {
   "cell_type": "markdown",
   "metadata": {},
   "source": [
    "1. In mathematics, the Fibonacci numbers, commonly denoted Fn, form a sequence, called the Fibonacci sequence, such that each number is the sum of the two preceding ones, starting from 0 and 1:\n",
    "The function fastFib(num) returns the fibonacci number Fn, of the given num as an argument.\n",
    "\n",
    "Examples:\n",
    "fib_fast(5) ➞ 5\n",
    "fib_fast(10) ➞ 55\n",
    "fib_fast(20) ➞ 6765\n",
    "fib_fast(50) ➞ 12586269025\n"
   ]
  },
  {
   "cell_type": "code",
   "execution_count": 1,
   "metadata": {},
   "outputs": [
    {
     "name": "stdout",
     "output_type": "stream",
     "text": [
      "20\n",
      "20 fibonacci number : 6765\n"
     ]
    }
   ],
   "source": [
    "def fastFib(n):\n",
    "    f1=0\n",
    "    f2=1\n",
    "    c=2\n",
    "    if n==1:\n",
    "        print(f1)\n",
    "    elif n==2:\n",
    "        print(f1,'\\n',f2,sep='')\n",
    "    else:\n",
    "        while c<n+1:\n",
    "            f=f1+f2\n",
    "            f1,f2=f2,f\n",
    "            c+=1\n",
    "    return f\n",
    "n=int(input())\n",
    "fib=fastFib(n)\n",
    "print('{} fibonacci number :'.format(n),fib)"
   ]
  },
  {
   "cell_type": "markdown",
   "metadata": {},
   "source": [
    "2. Create a function that takes a strings characters as ASCII and returns each characters hexadecimal value as a string.\n",
    "\n",
    "Examples\n",
    "convert_to_hex(\"hello world\") ➞ \"68 65 6c 6c 6f 20 77 6f 72 6c 64\"\n",
    "convert_to_hex(\"Big Boi\") ➞ \"42 69 67 20 42 6f 69\"\n",
    "convert_to_hex(\"Marty Poppinson\") ➞ \"4d 61 72 74 79 20 50 6f 70 70 69 6e 73 6f 6e\"\n"
   ]
  },
  {
   "cell_type": "code",
   "execution_count": 2,
   "metadata": {},
   "outputs": [
    {
     "name": "stdout",
     "output_type": "stream",
     "text": [
      "Enter a String to Covert Hexadecimal Equivalent :Big Boi\n",
      "Big Boi hexadecimal value as a string : 42 69 67 20 42 6f 69 \n"
     ]
    }
   ],
   "source": [
    "def convert_to_hex(str):\n",
    "    l=[]\n",
    "    str1=''\n",
    "    for i in range(len(str)):\n",
    "        l.append(hex(ord(str[i]))[2:]+ ' ')\n",
    "    for i in l:\n",
    "        str1 +=i\n",
    "    return str1\n",
    "\n",
    "str=input('Enter a String to Covert Hexadecimal Equivalent :')\n",
    "s1= convert_to_hex(str)\n",
    "print('{} hexadecimal value as a string :'.format(str),s1)"
   ]
  },
  {
   "cell_type": "markdown",
   "metadata": {},
   "source": [
    "3. Someone has attempted to censor my strings by replacing every vowel with a *, l*k* th*s. Luckily, I've been able to find the vowels that were removed.\n",
    "\n",
    "Given a censored string and a string of the censored vowels, return the original uncensored string.\n",
    "Example\n",
    "uncensor(\"Wh*r* d*d my v*w*ls g*?\", \"eeioeo\") ➞ \"Where did my vowels go?\"\n",
    "uncensor(\"abcd\", \"\") ➞ \"abcd\"\n",
    "uncensor(\"*PP*RC*S*\", \"UEAE\") ➞ \"UPPERCASE\""
   ]
  },
  {
   "cell_type": "code",
   "execution_count": 5,
   "metadata": {},
   "outputs": [
    {
     "name": "stdout",
     "output_type": "stream",
     "text": [
      "Please Enter Censored String :Wh*r* d*d my v*w*ls g*?\n",
      "Please Enter Removed Vowels :eeioeo\n",
      "Wh*r* d*d my v*w*ls g*? uncensor String is : Where did my vowels go?\n"
     ]
    }
   ],
   "source": [
    "def uncensor(s,ss) :\n",
    "    str1=''\n",
    "    l=list(s)   \n",
    "    l2=list(ss)\n",
    "    cnt=0\n",
    "    for i in range(len(l)):\n",
    "        if l[i]== '*':\n",
    "            l[i]=l2[cnt]\n",
    "            cnt+=1\n",
    "    for ele in l: \n",
    "        str1 += ele \n",
    "    return str1\n",
    "\n",
    "censors_str=input('Please Enter Censored String :')\n",
    "removed_vowels=input('Please Enter Removed Vowels :')\n",
    "uncensor_str= uncensor(censors_str,removed_vowels)\n",
    "print('{} uncensor String is :'.format(censors_str),uncensor_str)"
   ]
  },
  {
   "cell_type": "markdown",
   "metadata": {},
   "source": [
    "4. Write a function that takes an IP address and returns the domain name using PTR DNS records.\n",
    "\n",
    "Example\n",
    "get_domain(\"8.8.8.8\") ➞ \"dns.google\"\n",
    "get_domain(\"8.8.4.4\") ➞ \"dns.google\""
   ]
  },
  {
   "cell_type": "code",
   "execution_count": 5,
   "metadata": {},
   "outputs": [
    {
     "name": "stdout",
     "output_type": "stream",
     "text": [
      "dns.google.\n"
     ]
    }
   ],
   "source": [
    "import dns.resolver\n",
    "import dns.reversename\n",
    "\n",
    "def get_domain(a):\n",
    "    domain_address = dns.reversename.from_address(a)\n",
    "    \n",
    "\n",
    "    domain_name = str(dns.resolver.resolve(domain_address, 'PTR')[0])\n",
    "    \n",
    "    return domain_name\n",
    "\n",
    "a='8.8.8.8'\n",
    "dm=get_domain(a)\n",
    "print(dm)"
   ]
  },
  {
   "cell_type": "markdown",
   "metadata": {},
   "source": [
    "5. Create a function that takes an integer n and returns the factorial of factorials. See below examples for a better understanding:\n",
    "Examples\n",
    "fact_of_fact(4) ➞ 288\n",
    "fact_of_fact(5) ➞ 34560\n",
    "fact_of_fact(6) ➞ 24883200"
   ]
  },
  {
   "cell_type": "code",
   "execution_count": 8,
   "metadata": {},
   "outputs": [
    {
     "name": "stdout",
     "output_type": "stream",
     "text": [
      "50\n",
      "fact_of_fact 50  -> 12586269025\n"
     ]
    }
   ],
   "source": [
    "def fact_of_fact(n):\n",
    "    f1=0\n",
    "    f2=1\n",
    "    c=2\n",
    "    if n==1:\n",
    "        print(f1)\n",
    "    elif n==2:\n",
    "        print(f1,'\\n',f2,sep='')\n",
    "    else:\n",
    "        while c<n+1:\n",
    "            f=f1+f2\n",
    "            f1,f2=f2,f\n",
    "            c+=1\n",
    "    return f\n",
    "n=int(input())\n",
    "ft=fact_of_fact(n)\n",
    "print('fact_of_fact {}'.format(n),' ->',ft)"
   ]
  },
  {
   "cell_type": "code",
   "execution_count": null,
   "metadata": {},
   "outputs": [],
   "source": []
  }
 ],
 "metadata": {
  "kernelspec": {
   "display_name": "Python 3",
   "language": "python",
   "name": "python3"
  },
  "language_info": {
   "codemirror_mode": {
    "name": "ipython",
    "version": 3
   },
   "file_extension": ".py",
   "mimetype": "text/x-python",
   "name": "python",
   "nbconvert_exporter": "python",
   "pygments_lexer": "ipython3",
   "version": "3.6.4"
  }
 },
 "nbformat": 4,
 "nbformat_minor": 2
}
