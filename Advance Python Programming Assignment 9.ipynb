{
 "cells": [
  {
   "cell_type": "markdown",
   "metadata": {},
   "source": [
    "1. YouTube offers different playback speed options for users. This allows users to increase or decrease the speed of the video content. Given the actual duration and playback speed of the video, calculate the playback duration of the video.\n",
    "\n",
    "Examples\n",
    "playback_duration(\"00:30:00\", 2) ➞ \"00:15:00\"\n",
    "playback_duration(\"01:20:00\", 1.5) ➞ \"00:53:20\"\n",
    "playback_duration(\"51:20:09\", 0.5) ➞ \"102:40:18\""
   ]
  },
  {
   "cell_type": "code",
   "execution_count": 11,
   "metadata": {},
   "outputs": [
    {
     "name": "stdout",
     "output_type": "stream",
     "text": [
      "<class 'str'> <class 'float'>\n",
      "80.0\n",
      "playback_duration ➞ 0:53:20\n"
     ]
    }
   ],
   "source": [
    "def playback_duration(a,b):\n",
    "    print(type(a),type(b))\n",
    "    time = a\n",
    "    #convert the time to minute\n",
    "    xx=sum(x * int(t) for x, t in zip([60, 1, 1/60], time.split(\":\"))) \n",
    "    print(xx)\n",
    "    #speed is b, xx total time in minute\n",
    "    s= xx/b*60\n",
    "    h = s // 3600\n",
    "    m = s % 3600 // 60\n",
    "    s = s % 3600 % 60\n",
    "    return \"%d:%02d:%02d\" % (h, m, s)\n",
    "\n",
    "duration=playback_duration(\"01:20:00\", 1.5)\n",
    "print('playback_duration ➞',duration)"
   ]
  },
  {
   "cell_type": "markdown",
   "metadata": {},
   "source": [
    "2. We needs your help to construct a building which will be a pile of n cubes. The cube at the bottom will have a volume of n^3, the cube above will have volume of (n-1)^3 and so on until the top which will have a volume of 1^3.\n",
    "\n",
    "Given the total volume m of the building, can you find the number of cubes n required for the building?\n",
    "In other words, you have to return an integer n such that:\n",
    "n^3 + (n-1)^3 + ... + 1^3 == m\n",
    "Return None if there is no such number.\n",
    "Examples\n",
    "pile_of_cubes(1071225) ➞ 45\n",
    "pile_of_cubes(4183059834009) ➞ 2022\n",
    "pile_of_cubes(16) ➞ None"
   ]
  },
  {
   "cell_type": "code",
   "execution_count": 10,
   "metadata": {},
   "outputs": [
    {
     "name": "stdout",
     "output_type": "stream",
     "text": [
      "Enter a Number as sum of cubes:4183059834009\n",
      "pile_of_cubes( 4183059834009 ) ➞ 2022\n"
     ]
    }
   ],
   "source": [
    "import math\n",
    "\n",
    "def pile_of_cubes(a):\n",
    "    sum=0\n",
    "    cnt=0\n",
    "    for i in range(100000):\n",
    "        sum += i**3\n",
    "        cnt+=1\n",
    "        if sum == a:\n",
    "            return (cnt-1)\n",
    "            \n",
    "    else:\n",
    "        return 'None'\n",
    "\n",
    "sum_cubes=int(input('Enter a Number as sum of cubes:'))    \n",
    "x=pile_of_cubes(sum_cubes)   \n",
    "print('pile_of_cubes(',sum_cubes,') ➞',x)"
   ]
  },
  {
   "cell_type": "markdown",
   "metadata": {},
   "source": [
    "3. A fulcrum of a list is an integer such that all elements to the left of it and all elements to the right of it sum to the same value. Write a function that finds the fulcrum of a list.\n",
    "\n",
    "To illustrate:\n",
    "find_fulcrum([3, 1, 5, 2, 4, 6, -1]) ➞ 2\n",
    "// Since [3, 1, 5] and [4, 6, -1] both sum to 9\n",
    "Examples\n",
    "find_fulcrum([1, 2, 4, 9, 10, -10, -9, 3]) ➞ 4\n",
    "find_fulcrum([9, 1, 9]) ➞ 1\n",
    "find_fulcrum([7, -1, 0, -1, 1, 1, 2, 3]) ➞ 0\n",
    "find_fulcrum([8, 8, 8, 8]) ➞ -1"
   ]
  },
  {
   "cell_type": "code",
   "execution_count": 9,
   "metadata": {},
   "outputs": [
    {
     "name": "stdout",
     "output_type": "stream",
     "text": [
      "find_fulcrum( [1, 2, 4, 9, 10, -10, -9, 3] ) ➞ 4\n"
     ]
    }
   ],
   "source": [
    "def find_fulcrum(arr):\n",
    "    leftsum = 0\n",
    "    rightsum = 0\n",
    "    n = len(arr)\n",
    " \n",
    "    # Check for indexes one by one\n",
    "    # until an equilibrium index is found\n",
    "    for i in range(n):\n",
    "        leftsum = 0\n",
    "        rightsum = 0\n",
    "     \n",
    "        # get left sum\n",
    "        for j in range(i):\n",
    "            leftsum += arr[j]\n",
    "         \n",
    "        # get right sum\n",
    "        for j in range(i + 1, n):\n",
    "            rightsum += arr[j]\n",
    "         \n",
    "        # if leftsum and rightsum are same,\n",
    "        # then we are done\n",
    "        if leftsum == rightsum:\n",
    "            return arr[i]\n",
    "     \n",
    "    # return -1 if no equilibrium index is found\n",
    "    return -1\n",
    "             \n",
    "\n",
    "arr = [1, 2, 4, 9, 10, -10, -9, 3]\n",
    "print ('find_fulcrum(',arr,') ➞',find_fulcrum(arr))"
   ]
  },
  {
   "cell_type": "markdown",
   "metadata": {},
   "source": [
    "  4. Given a list of integers representing the color of each sock, determine how many pairs of socks with matching colors there are. For example, there are 7 socks with colors [1, 2, 1, 2, 1, 3, 2]. There is one pair of color 1 and one of color 2. There are three odd socks left, one of each color. The number of pairs is 2.\n",
    "\n",
    "Create a function that returns an integer representing the number of matching pairs of socks that are available.\n",
    "Examples\n",
    "sock_merchant([10, 20, 20, 10, 10, 30, 50, 10, 20]) ➞ 3\n",
    "sock_merchant([50, 20, 30, 90, 30, 20, 50, 20, 90]) ➞ 4\n",
    "sock_merchant([]) ➞ 0"
   ]
  },
  {
   "cell_type": "code",
   "execution_count": 8,
   "metadata": {},
   "outputs": [
    {
     "name": "stdout",
     "output_type": "stream",
     "text": [
      "Counter({20: 3, 50: 2, 30: 2, 90: 2})\n",
      "sockMerchant( [50, 20, 30, 90, 30, 20, 50, 20, 90] ) ➞ 4\n"
     ]
    }
   ],
   "source": [
    "from collections import Counter\n",
    "def sockMerchant(arr):\n",
    "    #Counter to group and count all similar type of socks\n",
    "    n = Counter(arr)\n",
    "    print(n)\n",
    "    return sum(i//2 for i in n.values())\n",
    "a= [50, 20, 30, 90, 30, 20, 50, 20, 90]\n",
    "x=sockMerchant(a)\n",
    "print('sockMerchant(',a,') ➞',x)"
   ]
  },
  {
   "cell_type": "markdown",
   "metadata": {},
   "source": [
    "5. Create a function that takes a string containing integers as well as other characters and return the sum of the negative integers only.\n",
    "\n",
    "Examples\n",
    "negative_sum(\"-12 13%14&-11\") ➞ -23\n",
    "# -12 + -11 = -23\n",
    "negative_sum(\"22 13%14&-11-22 13 12\") ➞ -33\n",
    "# -11 + -22 = -33"
   ]
  },
  {
   "cell_type": "code",
   "execution_count": 14,
   "metadata": {},
   "outputs": [
    {
     "name": "stdout",
     "output_type": "stream",
     "text": [
      "negative_sum( 22 13%14&-11-22 13 12 ) ➞ -33\n"
     ]
    }
   ],
   "source": [
    "def negative_sum(l):\n",
    "    total = 0\n",
    "    for val in ll:\n",
    "        \n",
    "        total = total + val\n",
    "    return total\n",
    "s=\"22 13%14&-11-22 13 12\"\n",
    "l=list(s)\n",
    "ll=[]\n",
    "#adding -ve number to a list\n",
    "for i in range(len(l)):\n",
    "    if l[i]=='-':\n",
    "        ll.append(int(s[i:i+3]))\n",
    "c=negative_sum(ll)\n",
    "print('negative_sum(',s,') ➞',c)"
   ]
  },
  {
   "cell_type": "code",
   "execution_count": null,
   "metadata": {},
   "outputs": [],
   "source": []
  },
  {
   "cell_type": "code",
   "execution_count": null,
   "metadata": {},
   "outputs": [],
   "source": []
  },
  {
   "cell_type": "code",
   "execution_count": null,
   "metadata": {},
   "outputs": [],
   "source": []
  }
 ],
 "metadata": {
  "kernelspec": {
   "display_name": "Python 3",
   "language": "python",
   "name": "python3"
  },
  "language_info": {
   "codemirror_mode": {
    "name": "ipython",
    "version": 3
   },
   "file_extension": ".py",
   "mimetype": "text/x-python",
   "name": "python",
   "nbconvert_exporter": "python",
   "pygments_lexer": "ipython3",
   "version": "3.6.4"
  }
 },
 "nbformat": 4,
 "nbformat_minor": 2
}
